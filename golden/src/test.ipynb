{
 "cells": [
  {
   "cell_type": "code",
   "execution_count": null,
   "metadata": {},
   "outputs": [],
   "source": [
    "from types import SimpleNamespace\n",
    "import time\n",
    "import json\n",
    "import os\n",
    "\n",
    "from game import Game\n",
    "import gamemodes.wrapped_functions as funcs\n",
    "from algorithms.minimax import minimax\n",
    "\n",
    "depth = 4\n",
    "data_json = open(\"..\\\\resources\\\\tests\\\\minimax_test_4.json\",\"r\")\n",
    "data = json.loads(data_json.read())\n",
    "\n",
    "game = Game(data)\n",
    "board = game.board\n",
    "\n",
    "snake_id = board.get_self_id()\n",
    "snake_2_id = \"OTHER-SNAKE\"\n",
    "board.print_board()"
   ]
  },
  {
   "cell_type": "code",
   "execution_count": null,
   "metadata": {},
   "outputs": [],
   "source": [
    "data = json.loads(data_json, object_hook=lambda d: SimpleNamespace(**d))"
   ]
  }
 ],
 "metadata": {
  "kernelspec": {
   "display_name": "Python 3.10.6 64-bit",
   "language": "python",
   "name": "python3"
  },
  "language_info": {
   "codemirror_mode": {
    "name": "ipython",
    "version": 3
   },
   "file_extension": ".py",
   "mimetype": "text/x-python",
   "name": "python",
   "nbconvert_exporter": "python",
   "pygments_lexer": "ipython3",
   "version": "3.10.6"
  },
  "orig_nbformat": 4,
  "vscode": {
   "interpreter": {
    "hash": "d37b5943df0ee5cc553b95d5b68b17e9d4196dc8309aa7c0643598742e5c200d"
   }
  }
 },
 "nbformat": 4,
 "nbformat_minor": 2
}
