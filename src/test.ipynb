{
 "cells": [
  {
   "cell_type": "code",
   "execution_count": 6,
   "metadata": {},
   "outputs": [
    {
     "name": "stdout",
     "output_type": "stream",
     "text": [
      "◦ ◦ ◦ F O \n",
      "◦ ◦ ◦ ◦ O \n",
      "◦ O X O O \n",
      "◦ O ◦ ◦ ◦ \n",
      "◦ O ◦ ◦ ◦ \n"
     ]
    }
   ],
   "source": [
    "from board import Board\n",
    "import gamemodes.wrapped_functions as funcs\n",
    "from algorithms.minimax import Minimax\n",
    "\n",
    "import json\n",
    "\n",
    "depth = 1\n",
    "board_json = open(\"..\\\\resources\\\\tests\\\\minimax_test_1.json\",\"r\")\n",
    "board_dict = json.loads(board_json.read())\n",
    "board = Board(board_dict)\n",
    "\n",
    "board.food = [{\"x\": 3, \"y\": 4}]\n",
    "\n",
    "snake_id = board.get_self_id()\n",
    "snake_2_id = \"OTHER-SNAKE\"\n",
    "board.print_board()"
   ]
  },
  {
   "cell_type": "code",
   "execution_count": 7,
   "metadata": {},
   "outputs": [],
   "source": [
    "moves = board.find_moves({\"x\":4,\"y\":4})"
   ]
  },
  {
   "cell_type": "code",
   "execution_count": 8,
   "metadata": {},
   "outputs": [],
   "source": [
    "temp_moves = {move : board.wrap_fix(moves[move]) for move in moves}"
   ]
  },
  {
   "cell_type": "code",
   "execution_count": 9,
   "metadata": {},
   "outputs": [
    {
     "name": "stdout",
     "output_type": "stream",
     "text": [
      "5\n"
     ]
    }
   ],
   "source": [
    "print(board.width)"
   ]
  },
  {
   "cell_type": "code",
   "execution_count": 10,
   "metadata": {},
   "outputs": [
    {
     "name": "stdout",
     "output_type": "stream",
     "text": [
      "{'up': {'x': 4, 'y': 0}, 'down': {'x': 4, 'y': 3}, 'right': {'x': 0, 'y': 4}, 'left': {'x': 3, 'y': 4}}\n",
      "{'up': {'x': 4, 'y': 0}, 'down': {'x': 4, 'y': 3}, 'right': {'x': 0, 'y': 4}, 'left': {'x': 3, 'y': 4}}\n"
     ]
    }
   ],
   "source": [
    "print(temp_moves)\n",
    "print(moves)"
   ]
  },
  {
   "cell_type": "code",
   "execution_count": null,
   "metadata": {},
   "outputs": [],
   "source": [
    "moves = {\n",
    "            \"up\": {\"x\": 0, \"y\": 1},\n",
    "            \"down\": {\"x\": 0, \"y\": -1},\n",
    "            \"right\": {\"x\": -1, \"y\": 0},\n",
    "            \"left\": {\"x\": 1, \"y\": 0}\n",
    "        }"
   ]
  },
  {
   "cell_type": "code",
   "execution_count": null,
   "metadata": {},
   "outputs": [],
   "source": [
    "for move in moves:\n",
    "    print(\"OG:\", move, moves[move])\n",
    "    print(\"Wrapped:\", move, board.wrap_fix(moves[move]))\n"
   ]
  },
  {
   "cell_type": "code",
   "execution_count": null,
   "metadata": {},
   "outputs": [],
   "source": [
    "print(\"Self snake is top right, other snake bottom left\")\n",
    "print(\"Middle is hazard\")\n",
    "print(board.snakes[snake_id].get_body())\n",
    "board.print_board()\n",
    "\n"
   ]
  },
  {
   "cell_type": "code",
   "execution_count": null,
   "metadata": {},
   "outputs": [],
   "source": [
    "print(\"Base Board\")\n",
    "board.print_board()\n",
    "\n",
    "mm = Minimax(funcs.wrapped_eval, 'wrapped', debug_mode= True)\n",
    "move_val = mm.minimax(board, board.snakes[snake_id], depth= depth)\n",
    "move = board.find_moves(board.snakes[snake_id].get_head())[move_val[0]]\n",
    "print(\"CHOSEN MOVE:\", move_val, move)\n"
   ]
  },
  {
   "cell_type": "code",
   "execution_count": null,
   "metadata": {},
   "outputs": [],
   "source": [
    "print(\"Move\")\n",
    "board.move(snake_id, move)\n",
    "board.update_board_after_move()\n",
    "print(board.snakes[snake_id].get_body())\n",
    "board.print_board()\n"
   ]
  },
  {
   "cell_type": "code",
   "execution_count": null,
   "metadata": {},
   "outputs": [],
   "source": [
    "print(\"Enemy move\")\n",
    "board.move(snake_2_id, {\"x\": 1, \"y\": 3})\n",
    "board.print_board()"
   ]
  },
  {
   "cell_type": "code",
   "execution_count": null,
   "metadata": {},
   "outputs": [],
   "source": []
  }
 ],
 "metadata": {
  "kernelspec": {
   "display_name": "Python 3.9.13 64-bit",
   "language": "python",
   "name": "python3"
  },
  "language_info": {
   "codemirror_mode": {
    "name": "ipython",
    "version": 3
   },
   "file_extension": ".py",
   "mimetype": "text/x-python",
   "name": "python",
   "nbconvert_exporter": "python",
   "pygments_lexer": "ipython3",
   "version": "3.9.13"
  },
  "orig_nbformat": 4,
  "vscode": {
   "interpreter": {
    "hash": "f50f7a41ad96c4067be98a7dbb2670963d730b77523a35721eedd04898ba3c97"
   }
  }
 },
 "nbformat": 4,
 "nbformat_minor": 2
}
