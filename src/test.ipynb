{
 "cells": [
  {
   "cell_type": "code",
   "execution_count": null,
   "metadata": {},
   "outputs": [],
   "source": [
    "from board import Board\n",
    "from wrapped.minimax_wrp import Minimax\n",
    "\n",
    "import json\n",
    "\n",
    "depth = 1\n",
    "board_json = open(\"..\\\\resources\\\\tests\\\\minimax_test_1.json\",\"r\")\n",
    "board_dict = json.loads(board_json.read())\n",
    "board = Board(board_dict)\n",
    "\n",
    "board.food = [{\"x\": 3, \"y\": 4}]\n",
    "\n",
    "snake_id = board.get_self_id()\n",
    "snake_2_id = \"OTHER-SNAKE\"\n",
    "board.print_board()"
   ]
  },
  {
   "cell_type": "code",
   "execution_count": null,
   "metadata": {},
   "outputs": [],
   "source": [
    "moves = {\n",
    "            \"up\": {\"x\": 0, \"y\": 1},\n",
    "            \"down\": {\"x\": 0, \"y\": -1},\n",
    "            \"right\": {\"x\": -1, \"y\": 0},\n",
    "            \"left\": {\"x\": 1, \"y\": 0}\n",
    "        }"
   ]
  },
  {
   "cell_type": "code",
   "execution_count": null,
   "metadata": {},
   "outputs": [],
   "source": [
    "print(board.wrap_fix(moves))\n"
   ]
  },
  {
   "cell_type": "code",
   "execution_count": null,
   "metadata": {},
   "outputs": [],
   "source": [
    "print(\"Self snake is top right, other snake bottom left\")\n",
    "print(\"Middle is hazard\")\n",
    "print(board.snakes[snake_id].get_body())\n",
    "board.print_board()\n",
    "\n"
   ]
  },
  {
   "cell_type": "code",
   "execution_count": null,
   "metadata": {},
   "outputs": [],
   "source": [
    "print(\"Base Board\")\n",
    "board.print_board()\n",
    "\n",
    "mm = Minimax()\n",
    "move_val = mm.minimax(board, board.snakes[snake_id], depth= depth, print_output= True)\n",
    "move = board.find_moves(board.snakes[snake_id].get_head())[move_val[0]]\n",
    "print(\"CHOSEN MOVE:\", move_val, move)\n"
   ]
  },
  {
   "cell_type": "code",
   "execution_count": null,
   "metadata": {},
   "outputs": [],
   "source": [
    "print(\"Move\")\n",
    "board.move(snake_id, move)\n",
    "board.update_board_after_move()\n",
    "print(board.snakes[snake_id].get_body())\n",
    "board.print_board()\n"
   ]
  },
  {
   "cell_type": "code",
   "execution_count": null,
   "metadata": {},
   "outputs": [],
   "source": [
    "print(\"Enemy move\")\n",
    "board.move(snake_2_id, {\"x\": 1, \"y\": 3})\n",
    "board.print_board()"
   ]
  },
  {
   "cell_type": "code",
   "execution_count": null,
   "metadata": {},
   "outputs": [],
   "source": []
  }
 ],
 "metadata": {
  "kernelspec": {
   "display_name": "Python 3.10.6 64-bit",
   "language": "python",
   "name": "python3"
  },
  "language_info": {
   "codemirror_mode": {
    "name": "ipython",
    "version": 3
   },
   "file_extension": ".py",
   "mimetype": "text/x-python",
   "name": "python",
   "nbconvert_exporter": "python",
   "pygments_lexer": "ipython3",
   "version": "3.10.6"
  },
  "orig_nbformat": 4,
  "vscode": {
   "interpreter": {
    "hash": "d37b5943df0ee5cc553b95d5b68b17e9d4196dc8309aa7c0643598742e5c200d"
   }
  }
 },
 "nbformat": 4,
 "nbformat_minor": 2
}
