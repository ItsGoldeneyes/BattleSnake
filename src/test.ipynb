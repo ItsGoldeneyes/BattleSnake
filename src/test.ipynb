{
 "cells": [
  {
   "cell_type": "code",
   "execution_count": 1,
   "metadata": {},
   "outputs": [
    {
     "name": "stdout",
     "output_type": "stream",
     "text": [
      "◦ ◦ ◦ F O \n",
      "◦ ◦ ◦ ◦ O \n",
      "◦ O X O O \n",
      "◦ O ◦ ◦ ◦ \n",
      "◦ O ◦ ◦ ◦ \n"
     ]
    }
   ],
   "source": [
    "from board import Board\n",
    "from wrapped.minimax_wrp import Minimax\n",
    "\n",
    "import json\n",
    "\n",
    "depth = 1\n",
    "board_json = open(\"..\\\\resources\\\\tests\\\\minimax_test_1.json\",\"r\")\n",
    "board_dict = json.loads(board_json.read())\n",
    "board = Board(board_dict)\n",
    "\n",
    "board.food = [{\"x\": 3, \"y\": 4}]\n",
    "\n",
    "snake_id = board.get_self_id()\n",
    "snake_2_id = \"OTHER-SNAKE\"\n",
    "board.print_board()"
   ]
  },
  {
   "cell_type": "code",
   "execution_count": 2,
   "metadata": {},
   "outputs": [],
   "source": [
    "moves = {\n",
    "            \"up\": {\"x\": 0, \"y\": 1},\n",
    "            \"down\": {\"x\": 0, \"y\": -1},\n",
    "            \"right\": {\"x\": -1, \"y\": 0},\n",
    "            \"left\": {\"x\": 1, \"y\": 0}\n",
    "        }"
   ]
  },
  {
   "cell_type": "code",
   "execution_count": 3,
   "metadata": {},
   "outputs": [
    {
     "name": "stdout",
     "output_type": "stream",
     "text": [
      "{'up': {'x': 0, 'y': 1}, 'down': {'x': 0, 'y': 4}, 'right': {'x': 4, 'y': 0}, 'left': {'x': 1, 'y': 0}}\n"
     ]
    }
   ],
   "source": [
    "print(board.wrap_fix(moves))\n"
   ]
  },
  {
   "cell_type": "code",
   "execution_count": 4,
   "metadata": {},
   "outputs": [
    {
     "name": "stdout",
     "output_type": "stream",
     "text": [
      "Self snake is top right, other snake bottom left\n",
      "Middle is hazard\n",
      "[{'x': 3, 'y': 2}, {'x': 4, 'y': 2}, {'x': 4, 'y': 3}, {'x': 4, 'y': 4}]\n",
      "◦ ◦ ◦ F O \n",
      "◦ ◦ ◦ ◦ O \n",
      "◦ O X O O \n",
      "◦ O ◦ ◦ ◦ \n",
      "◦ O ◦ ◦ ◦ \n"
     ]
    }
   ],
   "source": [
    "print(\"Self snake is top right, other snake bottom left\")\n",
    "print(\"Middle is hazard\")\n",
    "print(board.snakes[snake_id].get_body())\n",
    "board.print_board()\n",
    "\n"
   ]
  },
  {
   "cell_type": "code",
   "execution_count": 5,
   "metadata": {},
   "outputs": [
    {
     "name": "stdout",
     "output_type": "stream",
     "text": [
      "Base Board\n",
      "◦ ◦ ◦ F O \n",
      "◦ ◦ ◦ ◦ O \n",
      "◦ O X O O \n",
      "◦ O ◦ ◦ ◦ \n",
      "◦ O ◦ ◦ ◦ \n",
      "\n",
      "___________________ \n",
      "\n",
      "MY-SNAKE up board\n",
      "DEPTH: 1\n",
      "◦ ◦ ◦ F ◦ \n",
      "◦ ◦ ◦ O O \n",
      "◦ O X O O \n",
      "◦ O ◦ ◦ ◦ \n",
      "◦ O ◦ ◦ ◦ \n",
      "\n",
      "OTHER-SNAKE up board\n",
      "DEPTH: 0\n",
      "◦ ◦ ◦ F ◦ \n",
      "◦ O ◦ O O \n",
      "◦ O X O O \n",
      "◦ O ◦ ◦ ◦ \n",
      "◦ ◦ ◦ ◦ ◦ \n",
      "Score: 2.6\n",
      "\n",
      "OTHER-SNAKE left board\n",
      "DEPTH: 0\n",
      "◦ ◦ ◦ F ◦ \n",
      "◦ ◦ ◦ O O \n",
      "O O X O O \n",
      "◦ O ◦ ◦ ◦ \n",
      "◦ ◦ ◦ ◦ ◦ \n",
      "Score: 2.0583333333333336\n",
      "Score: 1.7000000000000002\n",
      "\n",
      "___________________ \n",
      "\n",
      "MY-SNAKE up board\n",
      "DEPTH: 0\n",
      "◦ ◦ ◦ O ◦ \n",
      "◦ ◦ ◦ O O \n",
      "O O X O O \n",
      "◦ O ◦ ◦ ◦ \n",
      "◦ ◦ ◦ ◦ ◦ \n",
      "\n",
      "OTHER-SNAKE up board\n",
      "DEPTH: 0\n",
      "◦ ◦ ◦ O ◦ \n",
      "O ◦ ◦ O O \n",
      "O O X O O \n",
      "◦ ◦ ◦ ◦ ◦ \n",
      "◦ ◦ ◦ ◦ ◦ \n",
      "Score: 2.0583333333333336\n",
      "\n",
      "OTHER-SNAKE down board\n",
      "DEPTH: 0\n",
      "◦ ◦ ◦ O ◦ \n",
      "◦ ◦ ◦ O O \n",
      "O O X O O \n",
      "O ◦ ◦ ◦ ◦ \n",
      "◦ ◦ ◦ ◦ ◦ \n",
      "Score: 1.9500000000000002\n",
      "Score: 1.7000000000000002\n",
      "\n",
      "___________________ \n",
      "\n",
      "MY-SNAKE left board\n",
      "DEPTH: 0\n",
      "◦ ◦ ◦ F ◦ \n",
      "◦ ◦ O O ◦ \n",
      "O O X O O \n",
      "◦ O ◦ ◦ ◦ \n",
      "◦ ◦ ◦ ◦ ◦ \n",
      "\n",
      "OTHER-SNAKE up board\n",
      "DEPTH: 0\n",
      "◦ ◦ ◦ F ◦ \n",
      "O ◦ O O ◦ \n",
      "O O X O O \n",
      "◦ ◦ ◦ ◦ ◦ \n",
      "◦ ◦ ◦ ◦ ◦ \n",
      "Score: 2.0583333333333336\n",
      "\n",
      "OTHER-SNAKE down board\n",
      "DEPTH: 0\n",
      "◦ ◦ ◦ F ◦ \n",
      "◦ ◦ O O ◦ \n",
      "O O X O O \n",
      "O ◦ ◦ ◦ ◦ \n",
      "◦ ◦ ◦ ◦ ◦ \n",
      "Score: 1.9500000000000002\n",
      "Score: 1.7000000000000002\n",
      "\n",
      "___________________ \n",
      "\n",
      "MY-SNAKE down board\n",
      "DEPTH: 1\n",
      "◦ ◦ ◦ F ◦ \n",
      "◦ ◦ ◦ ◦ O \n",
      "◦ O X O O \n",
      "◦ O ◦ O ◦ \n",
      "◦ O ◦ ◦ ◦ \n",
      "\n",
      "OTHER-SNAKE up board\n",
      "DEPTH: 0\n",
      "◦ ◦ ◦ F ◦ \n",
      "◦ O ◦ ◦ O \n",
      "◦ O X O O \n",
      "◦ O ◦ O ◦ \n",
      "◦ ◦ ◦ ◦ ◦ \n",
      "Score: 2.6\n",
      "\n",
      "OTHER-SNAKE left board\n",
      "DEPTH: 0\n",
      "◦ ◦ ◦ F ◦ \n",
      "◦ ◦ ◦ ◦ O \n",
      "O O X O O \n",
      "◦ O ◦ O ◦ \n",
      "◦ ◦ ◦ ◦ ◦ \n",
      "Score: 2.0583333333333336\n",
      "Score: 1.366666666666667\n",
      "\n",
      "___________________ \n",
      "\n",
      "MY-SNAKE down board\n",
      "DEPTH: 0\n",
      "◦ ◦ ◦ F ◦ \n",
      "◦ ◦ ◦ ◦ ◦ \n",
      "O O X O O \n",
      "◦ O ◦ O ◦ \n",
      "◦ ◦ ◦ O ◦ \n",
      "\n",
      "OTHER-SNAKE up board\n",
      "DEPTH: 0\n",
      "◦ ◦ ◦ F ◦ \n",
      "O ◦ ◦ ◦ ◦ \n",
      "O O X O O \n",
      "◦ ◦ ◦ O ◦ \n",
      "◦ ◦ ◦ O ◦ \n",
      "Score: 2.0583333333333336\n",
      "\n",
      "OTHER-SNAKE down board\n",
      "DEPTH: 0\n",
      "◦ ◦ ◦ F ◦ \n",
      "◦ ◦ ◦ ◦ ◦ \n",
      "O O X O O \n",
      "O ◦ ◦ O ◦ \n",
      "◦ ◦ ◦ O ◦ \n",
      "Score: 1.9500000000000002\n",
      "Score: 1.3250000000000002\n",
      "\n",
      "___________________ \n",
      "\n",
      "MY-SNAKE right board\n",
      "DEPTH: 0\n",
      "◦ ◦ ◦ F ◦ \n",
      "◦ ◦ ◦ ◦ ◦ \n",
      "O O X O O \n",
      "◦ O ◦ O O \n",
      "◦ ◦ ◦ ◦ ◦ \n",
      "\n",
      "OTHER-SNAKE up board\n",
      "DEPTH: 0\n",
      "◦ ◦ ◦ F ◦ \n",
      "O ◦ ◦ ◦ ◦ \n",
      "O O X O O \n",
      "◦ ◦ ◦ O O \n",
      "◦ ◦ ◦ ◦ ◦ \n",
      "Score: 2.0583333333333336\n",
      "\n",
      "OTHER-SNAKE down board\n",
      "DEPTH: 0\n",
      "◦ ◦ ◦ F ◦ \n",
      "◦ ◦ ◦ ◦ ◦ \n",
      "O O X O O \n",
      "O ◦ ◦ O O \n",
      "◦ ◦ ◦ ◦ ◦ \n",
      "Score: 1.9500000000000002\n",
      "Score: 1.3250000000000002\n",
      "\n",
      "___________________ \n",
      "\n",
      "MY-SNAKE left board\n",
      "DEPTH: 0\n",
      "◦ ◦ ◦ F ◦ \n",
      "◦ ◦ ◦ ◦ ◦ \n",
      "O O X O O \n",
      "◦ O O O ◦ \n",
      "◦ ◦ ◦ ◦ ◦ \n",
      "\n",
      "OTHER-SNAKE up board\n",
      "DEPTH: 0\n",
      "◦ ◦ ◦ F ◦ \n",
      "O ◦ ◦ ◦ ◦ \n",
      "O O X O O \n",
      "◦ ◦ O O ◦ \n",
      "◦ ◦ ◦ ◦ ◦ \n",
      "Score: 2.0583333333333336\n",
      "\n",
      "OTHER-SNAKE down board\n",
      "DEPTH: 0\n",
      "◦ ◦ ◦ F ◦ \n",
      "◦ ◦ ◦ ◦ ◦ \n",
      "O O X O O \n",
      "O ◦ O O ◦ \n",
      "◦ ◦ ◦ ◦ ◦ \n",
      "Score: 1.9500000000000002\n",
      "Score: 1.3250000000000002\n",
      "CHOSEN MOVE: ['up', 5.1000000000000005] {'x': 3, 'y': 3}\n"
     ]
    }
   ],
   "source": [
    "print(\"Base Board\")\n",
    "board.print_board()\n",
    "\n",
    "mm = Minimax()\n",
    "move_val = mm.minimax(board, board.snakes[snake_id], depth= depth, print_output= True)\n",
    "move = board.find_moves(board.snakes[snake_id].get_head())[move_val[0]]\n",
    "print(\"CHOSEN MOVE:\", move_val, move)\n"
   ]
  },
  {
   "cell_type": "code",
   "execution_count": 6,
   "metadata": {},
   "outputs": [
    {
     "name": "stdout",
     "output_type": "stream",
     "text": [
      "Move\n",
      "[{'x': 3, 'y': 3}, {'x': 3, 'y': 2}, {'x': 4, 'y': 2}, {'x': 4, 'y': 3}]\n",
      "◦ ◦ ◦ F ◦ \n",
      "◦ ◦ ◦ O O \n",
      "◦ O X O O \n",
      "◦ O ◦ ◦ ◦ \n",
      "◦ O ◦ ◦ ◦ \n"
     ]
    }
   ],
   "source": [
    "print(\"Move\")\n",
    "board.move(snake_id, move)\n",
    "board.update_board_after_move()\n",
    "print(board.snakes[snake_id].get_body())\n",
    "board.print_board()\n"
   ]
  },
  {
   "cell_type": "code",
   "execution_count": 7,
   "metadata": {},
   "outputs": [
    {
     "name": "stdout",
     "output_type": "stream",
     "text": [
      "Enemy move\n",
      "◦ ◦ ◦ F ◦ \n",
      "◦ O ◦ O O \n",
      "◦ O X O O \n",
      "◦ O ◦ ◦ ◦ \n",
      "◦ ◦ ◦ ◦ ◦ \n"
     ]
    }
   ],
   "source": [
    "print(\"Enemy move\")\n",
    "board.move(snake_2_id, {\"x\": 1, \"y\": 3})\n",
    "board.print_board()"
   ]
  },
  {
   "cell_type": "code",
   "execution_count": null,
   "metadata": {},
   "outputs": [],
   "source": []
  }
 ],
 "metadata": {
  "kernelspec": {
   "display_name": "Python 3.9.13 64-bit",
   "language": "python",
   "name": "python3"
  },
  "language_info": {
   "codemirror_mode": {
    "name": "ipython",
    "version": 3
   },
   "file_extension": ".py",
   "mimetype": "text/x-python",
   "name": "python",
   "nbconvert_exporter": "python",
   "pygments_lexer": "ipython3",
   "version": "3.9.13"
  },
  "orig_nbformat": 4,
  "vscode": {
   "interpreter": {
    "hash": "f50f7a41ad96c4067be98a7dbb2670963d730b77523a35721eedd04898ba3c97"
   }
  }
 },
 "nbformat": 4,
 "nbformat_minor": 2
}
