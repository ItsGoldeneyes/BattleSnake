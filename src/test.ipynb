{
 "cells": [
  {
   "cell_type": "code",
   "execution_count": 1,
   "metadata": {},
   "outputs": [
    {
     "name": "stdout",
     "output_type": "stream",
     "text": [
      "◦ ◦ ◦ ◦ O \n",
      "◦ ◦ ◦ ◦ O \n",
      "◦ O X O O \n",
      "◦ O ◦ ◦ ◦ \n",
      "◦ O ◦ ◦ ◦ \n"
     ]
    }
   ],
   "source": [
    "from board import Board\n",
    "from floodfill_board import floodfill\n",
    "from minimax_std import Minimax\n",
    "\n",
    "import json\n",
    "\n",
    "depth = 1\n",
    "board_json = open(\"..\\\\resources\\\\tests\\\\minimax_test_1.json\",\"r\")\n",
    "board_dict = json.loads(board_json.read())\n",
    "board = Board(board_dict)\n",
    "\n",
    "board.food = [{\"x\": 3, \"y\": 4}]\n",
    "\n",
    "snake_id = board.get_self_id()\n",
    "snake_2_id = \"OTHER-SNAKE\"\n",
    "board.print_board()"
   ]
  },
  {
   "cell_type": "code",
   "execution_count": 2,
   "metadata": {},
   "outputs": [
    {
     "name": "stdout",
     "output_type": "stream",
     "text": [
      "Self snake is top right, other snake bottom left\n",
      "Middle is hazard\n",
      "[{'x': 3, 'y': 2}, {'x': 4, 'y': 2}, {'x': 4, 'y': 3}, {'x': 4, 'y': 4}]\n",
      "◦ ◦ ◦ ◦ O \n",
      "◦ ◦ ◦ ◦ O \n",
      "◦ O X O O \n",
      "◦ O ◦ ◦ ◦ \n",
      "◦ O ◦ ◦ ◦ \n"
     ]
    }
   ],
   "source": [
    "print(\"Self snake is top right, other snake bottom left\")\n",
    "print(\"Middle is hazard\")\n",
    "print(board.snakes[snake_id].get_body())\n",
    "board.print_board()\n",
    "\n"
   ]
  },
  {
   "cell_type": "code",
   "execution_count": 3,
   "metadata": {},
   "outputs": [
    {
     "name": "stdout",
     "output_type": "stream",
     "text": [
      "Base Board\n",
      "◦ ◦ ◦ ◦ O \n",
      "◦ ◦ ◦ ◦ O \n",
      "◦ O X O O \n",
      "◦ O ◦ ◦ ◦ \n",
      "◦ O ◦ ◦ ◦ \n",
      "\n",
      "___________________ \n",
      "\n",
      "MY-SNAKE up board\n",
      "DEPTH: 1\n",
      "◦ ◦ ◦ ◦ ◦ \n",
      "◦ ◦ ◦ O O \n",
      "◦ O X O O \n",
      "◦ O ◦ ◦ ◦ \n",
      "◦ O ◦ ◦ ◦ \n",
      "\n",
      "___________________ \n",
      "\n",
      "MY-SNAKE down board\n",
      "DEPTH: 1\n",
      "◦ ◦ ◦ ◦ ◦ \n",
      "◦ ◦ ◦ ◦ O \n",
      "◦ O X O O \n",
      "◦ O ◦ O ◦ \n",
      "◦ O ◦ ◦ ◦ \n",
      "CHOSEN MOVE: ['up', 0] {'x': 3, 'y': 3}\n"
     ]
    }
   ],
   "source": [
    "print(\"Base Board\")\n",
    "board.print_board()\n",
    "\n",
    "mm = Minimax()\n",
    "move_val = mm.minimax(board, board.snakes[snake_id], depth= depth, print_output= True)\n",
    "move = board.find_moves(board.snakes[snake_id].get_head())[move_val[0]]\n",
    "print(\"CHOSEN MOVE:\", move_val, move)\n"
   ]
  },
  {
   "cell_type": "code",
   "execution_count": 4,
   "metadata": {},
   "outputs": [
    {
     "name": "stdout",
     "output_type": "stream",
     "text": [
      "Move\n",
      "[{'x': 3, 'y': 3}, {'x': 3, 'y': 2}, {'x': 4, 'y': 2}, {'x': 4, 'y': 3}]\n",
      "◦ ◦ ◦ ◦ ◦ \n",
      "◦ ◦ ◦ O O \n",
      "◦ O X O O \n",
      "◦ O ◦ ◦ ◦ \n",
      "◦ O ◦ ◦ ◦ \n"
     ]
    }
   ],
   "source": [
    "print(\"Move\")\n",
    "board.move(snake_id, move)\n",
    "board.update_board_after_move()\n",
    "print(board.snakes[snake_id].get_body())\n",
    "board.print_board()\n"
   ]
  },
  {
   "cell_type": "code",
   "execution_count": 5,
   "metadata": {},
   "outputs": [
    {
     "name": "stdout",
     "output_type": "stream",
     "text": [
      "Enemy move\n",
      "◦ ◦ ◦ ◦ ◦ \n",
      "◦ O ◦ O O \n",
      "◦ O X O O \n",
      "◦ O ◦ ◦ ◦ \n",
      "◦ ◦ ◦ ◦ ◦ \n"
     ]
    }
   ],
   "source": [
    "print(\"Enemy move\")\n",
    "board.move(snake_2_id, {\"x\": 1, \"y\": 3})\n",
    "board.print_board()"
   ]
  },
  {
   "cell_type": "code",
   "execution_count": null,
   "metadata": {},
   "outputs": [],
   "source": []
  }
 ],
 "metadata": {
  "kernelspec": {
   "display_name": "Python 3.10.6 64-bit",
   "language": "python",
   "name": "python3"
  },
  "language_info": {
   "codemirror_mode": {
    "name": "ipython",
    "version": 3
   },
   "file_extension": ".py",
   "mimetype": "text/x-python",
   "name": "python",
   "nbconvert_exporter": "python",
   "pygments_lexer": "ipython3",
   "version": "3.10.6"
  },
  "orig_nbformat": 4,
  "vscode": {
   "interpreter": {
    "hash": "d37b5943df0ee5cc553b95d5b68b17e9d4196dc8309aa7c0643598742e5c200d"
   }
  }
 },
 "nbformat": 4,
 "nbformat_minor": 2
}
