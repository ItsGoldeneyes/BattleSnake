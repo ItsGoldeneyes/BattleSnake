{
 "cells": [
  {
   "cell_type": "code",
   "execution_count": 1,
   "metadata": {},
   "outputs": [],
   "source": [
    "from board import Board\n",
    "from floodfill_board import floodfill\n",
    "from minimax_std import Minimax\n",
    "\n",
    "import json\n",
    "\n",
    "\n",
    "board_json = open(\"..\\\\resources\\\\tests\\\\floodfill_wall.json\",\"r\")\n",
    "board_dict = json.loads(board_json.read())\n",
    "board = Board(board_dict)\n",
    "board.food = [{'x': 3, 'y': 2}]\n",
    "snake_id = board.get_self_id()"
   ]
  },
  {
   "cell_type": "code",
   "execution_count": 2,
   "metadata": {},
   "outputs": [
    {
     "name": "stdout",
     "output_type": "stream",
     "text": [
      "[{'x': 2, 'y': 2}]\n",
      "◦ ◦ X ◦ ◦ \n",
      "◦ ◦ X ◦ ◦ \n",
      "◦ ◦ O F ◦ \n",
      "◦ ◦ X ◦ ◦ \n",
      "◦ ◦ X ◦ ◦ \n"
     ]
    }
   ],
   "source": [
    "print(board.snakes[snake_id].get_body())\n",
    "board.print_board()\n"
   ]
  },
  {
   "cell_type": "code",
   "execution_count": 3,
   "metadata": {},
   "outputs": [
    {
     "name": "stdout",
     "output_type": "stream",
     "text": [
      "[{'x': 2, 'y': 2}]\n",
      "{'x': 3, 'y': 2}\n",
      "right\n",
      "[{'x': 2, 'y': 2}]\n",
      "[{'x': 3, 'y': 2}]\n",
      "{'x': 3, 'y': 3}\n",
      "up\n",
      "[{'x': 3, 'y': 2}]\n",
      "{'x': 3, 'y': 1}\n",
      "down\n",
      "[{'x': 3, 'y': 2}]\n",
      "{'x': 4, 'y': 2}\n",
      "right\n",
      "[{'x': 3, 'y': 2}]\n",
      "{'x': 2, 'y': 2}\n",
      "left\n",
      "[{'x': 3, 'y': 2}]\n",
      "[{'x': 3, 'y': 2}]\n",
      "{'x': 1, 'y': 2}\n",
      "left\n",
      "[{'x': 2, 'y': 2}]\n",
      "[{'x': 1, 'y': 2}]\n",
      "{'x': 1, 'y': 3}\n",
      "up\n",
      "[{'x': 1, 'y': 2}]\n",
      "{'x': 1, 'y': 1}\n",
      "down\n",
      "[{'x': 1, 'y': 2}]\n",
      "{'x': 2, 'y': 2}\n",
      "right\n",
      "[{'x': 1, 'y': 2}]\n",
      "{'x': 0, 'y': 2}\n",
      "left\n",
      "[{'x': 1, 'y': 2}]\n",
      "[{'x': 1, 'y': 2}]\n",
      "[{'x': 2, 'y': 2}]\n",
      "CHOSEN MOVE: ['right', 3] {'x': 3, 'y': 2}\n"
     ]
    }
   ],
   "source": [
    "mm = Minimax()\n",
    "move_val = mm.minimax(board, board.snakes[snake_id], depth= 1)\n",
    "move = board.find_moves(board.snakes[snake_id].get_head())[move_val[0]]\n",
    "print(\"CHOSEN MOVE:\", move_val, move)\n"
   ]
  },
  {
   "cell_type": "code",
   "execution_count": 4,
   "metadata": {},
   "outputs": [
    {
     "name": "stdout",
     "output_type": "stream",
     "text": [
      "MOVE\n",
      "{'x': 3, 'y': 2}\n",
      "[{'x': 3, 'y': 2}, {'x': 2, 'y': 2}]\n",
      "◦ ◦ X ◦ ◦ \n",
      "◦ ◦ X ◦ ◦ \n",
      "◦ ◦ O O ◦ \n",
      "◦ ◦ X ◦ ◦ \n",
      "◦ ◦ X ◦ ◦ \n"
     ]
    }
   ],
   "source": [
    "print(\"MOVE\")\n",
    "board.move(snake_id, move)\n",
    "board.update_board_after_move()\n",
    "print(board.snakes[snake_id].get_body())\n",
    "board.print_board()\n"
   ]
  },
  {
   "cell_type": "code",
   "execution_count": 5,
   "metadata": {},
   "outputs": [
    {
     "name": "stdout",
     "output_type": "stream",
     "text": [
      "◦ ◦ X ◦ ◦ \n",
      "◦ ◦ X ◦ ◦ \n",
      "◦ ◦ O O ◦ \n",
      "◦ ◦ X ◦ ◦ \n",
      "◦ ◦ X ◦ ◦ \n"
     ]
    }
   ],
   "source": [
    "board.print_board()"
   ]
  },
  {
   "cell_type": "code",
   "execution_count": 1,
   "metadata": {},
   "outputs": [],
   "source": [
    "body = [{'x': 2, 'y': 4}, {'x': 2, 'y': 4}, {'x': 2, 'y': 4}]"
   ]
  },
  {
   "cell_type": "code",
   "execution_count": 2,
   "metadata": {},
   "outputs": [
    {
     "ename": "TypeError",
     "evalue": "unhashable type: 'dict'",
     "output_type": "error",
     "traceback": [
      "\u001b[1;31m---------------------------------------------------------------------------\u001b[0m",
      "\u001b[1;31mTypeError\u001b[0m                                 Traceback (most recent call last)",
      "\u001b[1;32mc:\\Users\\adamc\\OneDrive\\Documents\\GitHub\\BattleSnake\\src\\test.ipynb Cell 7\u001b[0m in \u001b[0;36m<cell line: 1>\u001b[1;34m()\u001b[0m\n\u001b[1;32m----> <a href='vscode-notebook-cell:/c%3A/Users/adamc/OneDrive/Documents/GitHub/BattleSnake/src/test.ipynb#X13sZmlsZQ%3D%3D?line=0'>1</a>\u001b[0m \u001b[39mset\u001b[39;49m(body)\n",
      "\u001b[1;31mTypeError\u001b[0m: unhashable type: 'dict'"
     ]
    }
   ],
   "source": [
    "set(body)"
   ]
  },
  {
   "cell_type": "code",
   "execution_count": null,
   "metadata": {},
   "outputs": [],
   "source": []
  }
 ],
 "metadata": {
  "kernelspec": {
   "display_name": "Python 3.10.6 64-bit",
   "language": "python",
   "name": "python3"
  },
  "language_info": {
   "codemirror_mode": {
    "name": "ipython",
    "version": 3
   },
   "file_extension": ".py",
   "mimetype": "text/x-python",
   "name": "python",
   "nbconvert_exporter": "python",
   "pygments_lexer": "ipython3",
   "version": "3.10.6"
  },
  "orig_nbformat": 4,
  "vscode": {
   "interpreter": {
    "hash": "d37b5943df0ee5cc553b95d5b68b17e9d4196dc8309aa7c0643598742e5c200d"
   }
  }
 },
 "nbformat": 4,
 "nbformat_minor": 2
}
