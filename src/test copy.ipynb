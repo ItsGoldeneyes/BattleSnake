{
 "cells": [
  {
   "cell_type": "code",
   "execution_count": 3,
   "metadata": {},
   "outputs": [],
   "source": [
    "from board import Board\n",
    "import algorithms.minimax\n",
    "\n",
    "import json\n",
    "\n",
    "from gamemodes.wrapped_functions import wrapped_eval"
   ]
  },
  {
   "cell_type": "code",
   "execution_count": 4,
   "metadata": {},
   "outputs": [
    {
     "name": "stdout",
     "output_type": "stream",
     "text": [
      "◦ ◦ ◦ F O \n",
      "◦ ◦ ◦ ◦ O \n",
      "◦ O X O O \n",
      "◦ O ◦ ◦ ◦ \n",
      "◦ O ◦ ◦ ◦ \n"
     ]
    }
   ],
   "source": [
    "depth = 1\n",
    "board_json = open(\"..\\\\resources\\\\tests\\\\minimax_test_1.json\",\"r\")\n",
    "board_dict = json.loads(board_json.read())\n",
    "board = Board(board_dict)\n",
    "\n",
    "board.food = [{\"x\": 3, \"y\": 4}]\n",
    "\n",
    "snake_id = board.get_self_id()\n",
    "snake_2_id = \"OTHER-SNAKE\"\n",
    "board.print_board()"
   ]
  },
  {
   "cell_type": "code",
   "execution_count": 6,
   "metadata": {},
   "outputs": [
    {
     "data": {
      "text/plain": [
       "0"
      ]
     },
     "execution_count": 6,
     "metadata": {},
     "output_type": "execute_result"
    }
   ],
   "source": [
    "wrapped_eval(board, snake_id)"
   ]
  },
  {
   "cell_type": "code",
   "execution_count": 7,
   "metadata": {},
   "outputs": [],
   "source": [
    "moves = board.find_moves(board.snakes[snake_id].get_head())"
   ]
  },
  {
   "cell_type": "code",
   "execution_count": null,
   "metadata": {},
   "outputs": [],
   "source": []
  }
 ],
 "metadata": {
  "kernelspec": {
   "display_name": "Python 3.10.6 64-bit",
   "language": "python",
   "name": "python3"
  },
  "language_info": {
   "codemirror_mode": {
    "name": "ipython",
    "version": 3
   },
   "file_extension": ".py",
   "mimetype": "text/x-python",
   "name": "python",
   "nbconvert_exporter": "python",
   "pygments_lexer": "ipython3",
   "version": "3.10.6"
  },
  "orig_nbformat": 4,
  "vscode": {
   "interpreter": {
    "hash": "d37b5943df0ee5cc553b95d5b68b17e9d4196dc8309aa7c0643598742e5c200d"
   }
  }
 },
 "nbformat": 4,
 "nbformat_minor": 2
}
