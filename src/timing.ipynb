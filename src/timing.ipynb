{
 "cells": [
  {
   "cell_type": "code",
   "execution_count": null,
   "metadata": {},
   "outputs": [],
   "source": [
    "from board import Board\n",
    "import gamemodes.wrapped_functions as wrp_funcs\n",
    "import gamemodes.standard_functions as std_funcs\n",
    "# from algorithms.minimax import minimax\n",
    "from algorithms.minimax_timing import minimax\n",
    "\n",
    "from datetime import datetime\n",
    "import time\n",
    "import json\n",
    "\n",
    "depth = 4\n",
    "board_json = open(\"..\\\\resources\\\\tests\\\\minimax_test_4.json\",\"r\")\n",
    "board_dict = json.loads(board_json.read())\n"
   ]
  },
  {
   "cell_type": "code",
   "execution_count": null,
   "metadata": {},
   "outputs": [],
   "source": [
    "time_1 = time.perf_counter()\n",
    "\n",
    "\n",
    "board = Board(board_dict)\n",
    "\n",
    "# board.food = [{\"x\": 3, \"y\": 3}]\n",
    "\n",
    "snake_id = board.get_self_id()\n",
    "snake_2_id = \"OTHER-SNAKE\"\n",
    "board.print_board()\n",
    "\n",
    "time_2 = time.perf_counter()\n",
    "\n",
    "print((time_2-time_1)*1000,'ms')"
   ]
  },
  {
   "cell_type": "code",
   "execution_count": null,
   "metadata": {},
   "outputs": [],
   "source": [
    "time_1 = time.perf_counter()\n",
    "\n",
    "eval = std_funcs.standard_eval(board, snake_id)\n",
    "\n",
    "time_2 = time.perf_counter()\n",
    "\n",
    "print((time_2-time_1)*1000,'ms')"
   ]
  },
  {
   "cell_type": "code",
   "execution_count": null,
   "metadata": {},
   "outputs": [],
   "source": [
    "depth = 1"
   ]
  },
  {
   "cell_type": "code",
   "execution_count": null,
   "metadata": {},
   "outputs": [],
   "source": [
    "time_1 = time.perf_counter()\n",
    "\n",
    "mm = minimax(std_funcs.standard_eval)\n",
    "print(mm(board, depth))\n",
    "\n",
    "time_2 = time.perf_counter()\n",
    "\n",
    "print((time_2-time_1)*1000,'ms')"
   ]
  },
  {
   "cell_type": "code",
   "execution_count": null,
   "metadata": {},
   "outputs": [],
   "source": [
    "time_1 = time.perf_counter()\n",
    "\n",
    "mm = minimax(std_funcs.standard_eval, alpha_beta=False)\n",
    "print(mm(board, depth))\n",
    "\n",
    "time_2 = time.perf_counter()\n",
    "\n",
    "print((time_2-time_1)*1000,'ms')"
   ]
  },
  {
   "cell_type": "code",
   "execution_count": null,
   "metadata": {},
   "outputs": [],
   "source": []
  }
 ],
 "metadata": {
  "kernelspec": {
   "display_name": "Python 3.9.13 64-bit",
   "language": "python",
   "name": "python3"
  },
  "language_info": {
   "codemirror_mode": {
    "name": "ipython",
    "version": 3
   },
   "file_extension": ".py",
   "mimetype": "text/x-python",
   "name": "python",
   "nbconvert_exporter": "python",
   "pygments_lexer": "ipython3",
   "version": "3.9.13"
  },
  "orig_nbformat": 4,
  "vscode": {
   "interpreter": {
    "hash": "f50f7a41ad96c4067be98a7dbb2670963d730b77523a35721eedd04898ba3c97"
   }
  }
 },
 "nbformat": 4,
 "nbformat_minor": 2
}
