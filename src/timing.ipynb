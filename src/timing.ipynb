{
 "cells": [
  {
   "cell_type": "code",
   "execution_count": null,
   "metadata": {},
   "outputs": [],
   "source": [
    "from board import Board\n",
    "import gamemodes.wrapped_functions as wrp_funcs\n",
    "import gamemodes.standard_functions as std_funcs\n",
    "from algorithms.minimax import minimax\n",
    "from algorithms.minimax_timing import minimax_timing\n",
    "from copy import copy, deepcopy\n",
    "from datetime import datetime\n",
    "import time\n",
    "import json\n",
    "\n",
    "depth = 4\n",
    "board_json = open(\"..\\\\resources\\\\tests\\\\minimax_test_4.json\",\"r\")\n",
    "board_dict = json.loads(board_json.read())\n"
   ]
  },
  {
   "cell_type": "code",
   "execution_count": null,
   "metadata": {},
   "outputs": [],
   "source": [
    "time_list = []\n",
    "\n",
    "for _ in range(0, 100000):\n",
    "    time_1 = time.perf_counter()\n",
    "\n",
    "\n",
    "    board = Board(board_dict)\n",
    "    \n",
    "    # board.food = [{\"x\": 3, \"y\": 3}, {\"x\": 4, \"y\": 4}, {\"x\": 1, \"y\": 3}]\n",
    "\n",
    "    snake_id = board.get_self_id()\n",
    "    snake_2_id = \"OTHER-SNAKE\"\n",
    "\n",
    "    time_2 = time.perf_counter()\n",
    "    time_list.append((time_2-time_1)*1000)\n",
    "board.print_board()\n",
    "    \n",
    "print(f'{sum(time_list)/len(time_list)}ms')"
   ]
  },
  {
   "cell_type": "code",
   "execution_count": null,
   "metadata": {},
   "outputs": [],
   "source": [
    "time_list = []\n",
    "for _ in range(0,100000):\n",
    "    time_1 = time.perf_counter()\n",
    "\n",
    "    eval = std_funcs.standard_eval(board, snake_id)\n",
    "\n",
    "    time_2 = time.perf_counter()\n",
    "    time_list.append((time_2-time_1)*1000)\n",
    "print(f'{sum(time_list)/len(time_list)}ms')"
   ]
  },
  {
   "cell_type": "code",
   "execution_count": null,
   "metadata": {},
   "outputs": [],
   "source": [
    "time_list = []\n",
    "for _ in range(0,100000):\n",
    "    time_1 = time.perf_counter()\n",
    "\n",
    "    new_board = deepcopy(board)\n",
    "\n",
    "    time_2 = time.perf_counter()\n",
    "    time_list.append((time_2-time_1)*1000)\n",
    "print(f'{sum(time_list)/len(time_list)}ms')"
   ]
  },
  {
   "cell_type": "code",
   "execution_count": null,
   "metadata": {},
   "outputs": [],
   "source": [
    "mm_timing = []\n",
    "\n",
    "max_depth = 15\n",
    "\n",
    "for depth in range(0,max_depth+1):\n",
    "    for _ in range(0, 50):\n",
    "        itera = []\n",
    "        \n",
    "        time_1 = time.perf_counter()\n",
    "\n",
    "        mm = minimax(std_funcs.standard_eval)\n",
    "        mm(board, depth)\n",
    "\n",
    "        time_2 = time.perf_counter()\n",
    "        \n",
    "        itera.append((time_2-time_1)*1000)\n",
    "    mm_timing.append(sum(itera)/len(itera))\n",
    "    \n",
    "for i in range(0, max_depth+1):\n",
    "    print(f\"depth {i} took {mm_timing[i]} ms\")"
   ]
  },
  {
   "cell_type": "code",
   "execution_count": null,
   "metadata": {},
   "outputs": [],
   "source": [
    "mm_timing = []\n",
    "\n",
    "max_depth = 9\n",
    "\n",
    "for depth in range(0, max_depth+1):\n",
    "    for _ in range(0, 50):\n",
    "        itera = []\n",
    "        \n",
    "        time_1 = time.perf_counter()\n",
    "\n",
    "        mm = minimax(std_funcs.standard_eval)\n",
    "        mm(board, depth)\n",
    "\n",
    "        time_2 = time.perf_counter()\n",
    "        \n",
    "        itera.append((time_2-time_1)*1000)\n",
    "    mm_timing.append(sum(itera)/len(itera))\n",
    "    \n",
    "for i in range(0, max_depth+1):\n",
    "    print(f\"depth {i} took {mm_timing[i]} ms\")"
   ]
  },
  {
   "cell_type": "code",
   "execution_count": null,
   "metadata": {},
   "outputs": [],
   "source": [
    "time_1 = time.perf_counter()\n",
    "\n",
    "mm = minimax(std_funcs.standard_eval)\n",
    "mm(board, 15)\n",
    "\n",
    "time_2 = time.perf_counter()\n",
    "\n",
    "print((time_2-time_1)*1000)"
   ]
  },
  {
   "cell_type": "code",
   "execution_count": null,
   "metadata": {},
   "outputs": [],
   "source": [
    "time_1 = time.perf_counter()\n",
    "\n",
    "mm = minimax(std_funcs.standard_eval)\n",
    "move = mm(board, 12)\n",
    "\n",
    "time_2 = time.perf_counter()\n",
    "print(move)\n",
    "print((time_2-time_1)*1000)"
   ]
  },
  {
   "cell_type": "code",
   "execution_count": null,
   "metadata": {},
   "outputs": [],
   "source": [
    "time_1 = time.perf_counter()\n",
    "\n",
    "new_board = deepcopy(board)\n",
    "\n",
    "time_2 = time.perf_counter()\n",
    "time_list.append((time_2-time_1)*1000)"
   ]
  },
  {
   "cell_type": "code",
   "execution_count": null,
   "metadata": {},
   "outputs": [],
   "source": []
  }
 ],
 "metadata": {
  "kernelspec": {
   "display_name": "Python 3.10.6 64-bit",
   "language": "python",
   "name": "python3"
  },
  "language_info": {
   "codemirror_mode": {
    "name": "ipython",
    "version": 3
   },
   "file_extension": ".py",
   "mimetype": "text/x-python",
   "name": "python",
   "nbconvert_exporter": "python",
   "pygments_lexer": "ipython3",
   "version": "3.10.6"
  },
  "orig_nbformat": 4,
  "vscode": {
   "interpreter": {
    "hash": "d37b5943df0ee5cc553b95d5b68b17e9d4196dc8309aa7c0643598742e5c200d"
   }
  }
 },
 "nbformat": 4,
 "nbformat_minor": 2
}
