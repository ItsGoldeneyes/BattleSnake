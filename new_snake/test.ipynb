{
 "cells": [
  {
   "cell_type": "code",
   "execution_count": 1,
   "metadata": {},
   "outputs": [],
   "source": [
    "from src.game import *"
   ]
  },
  {
   "cell_type": "code",
   "execution_count": 2,
   "metadata": {},
   "outputs": [],
   "source": [
    "game = SnakeGame()"
   ]
  },
  {
   "cell_type": "code",
   "execution_count": 3,
   "metadata": {},
   "outputs": [],
   "source": [
    "data = {\n",
    "  \"game\": {\n",
    "    \"id\": \"totally-unique-game-id\",\n",
    "    \"ruleset\": {\n",
    "      \"name\": \"standard\",\n",
    "      \"version\": \"v1.1.15\",\n",
    "      \"settings\": {\n",
    "        \"foodSpawnChance\": 15,\n",
    "        \"minimumFood\": 1,\n",
    "        \"hazardDamagePerTurn\": 14\n",
    "      }\n",
    "    },\n",
    "    \"map\": \"standard\",\n",
    "    \"source\": \"league\",\n",
    "    \"timeout\": 500\n",
    "  },\n",
    "  \"turn\": 14,\n",
    "  \"board\": {\n",
    "    \"height\": 11,\n",
    "    \"width\": 11,\n",
    "    \"food\": [\n",
    "      {\"x\": 5, \"y\": 5}, \n",
    "      {\"x\": 9, \"y\": 0}, \n",
    "      {\"x\": 2, \"y\": 6}\n",
    "    ],\n",
    "    \"hazards\": [\n",
    "      {\"x\": 3, \"y\": 2}\n",
    "    ],\n",
    "    \"snakes\": [\n",
    "      {\n",
    "        \"id\": \"snake-b67f4906-94ae-11ea-bb37\",\n",
    "        \"name\": \"Another Snake\",\n",
    "        \"health\": 16,\n",
    "        \"body\": [\n",
    "          {\"x\": 5, \"y\": 4}, \n",
    "          {\"x\": 5, \"y\": 3}, \n",
    "          {\"x\": 6, \"y\": 3},\n",
    "          {\"x\": 6, \"y\": 2}\n",
    "        ],\n",
    "        \"latency\": \"222\",\n",
    "        \"head\": {\"x\": 5, \"y\": 4},\n",
    "        \"length\": 4,\n",
    "        \"shout\": \"I'm not really sure...\",\n",
    "        \"customizations\":{\n",
    "          \"color\":\"#26CF04\",\n",
    "          \"head\":\"silly\",\n",
    "          \"tail\":\"curled\"\n",
    "        }\n",
    "      },\n",
    "      {\n",
    "        \"id\": \"snake-508e96ac-94ad-11ea-bb37\",\n",
    "        \"name\": \"My Snake\",\n",
    "        \"health\": 54,\n",
    "        \"body\": [\n",
    "          {\"x\": 0, \"y\": 0}, \n",
    "          {\"x\": 1, \"y\": 0}, \n",
    "          {\"x\": 2, \"y\": 0}\n",
    "        ],\n",
    "        \"latency\": \"111\",\n",
    "        \"head\": {\"x\": 0, \"y\": 0},\n",
    "        \"length\": 3,\n",
    "        \"shout\": \"why are we shouting??\",\n",
    "        \"customizations\":{\n",
    "          \"color\":\"#FF0000\",\n",
    "          \"head\":\"pixel\",\n",
    "          \"tail\":\"pixel\"\n",
    "        }\n",
    "      }\n",
    "    ]\n",
    "  },\n",
    "  \"you\": {\n",
    "    \"id\": \"snake-508e96ac-94ad-11ea-bb37\",\n",
    "    \"name\": \"My Snake\",\n",
    "    \"health\": 54,\n",
    "    \"body\": [\n",
    "      {\"x\": 0, \"y\": 0}, \n",
    "      {\"x\": 1, \"y\": 0}, \n",
    "      {\"x\": 2, \"y\": 0}\n",
    "    ],\n",
    "    \"latency\": \"111\",\n",
    "    \"head\": {\"x\": 0, \"y\": 0},\n",
    "    \"length\": 3,\n",
    "    \"shout\": \"why are we shouting??\",\n",
    "    \"customizations\": {\n",
    "      \"color\":\"#FF0000\",\n",
    "      \"head\":\"pixel\",\n",
    "      \"tail\":\"pixel\"\n",
    "    }\n",
    "  }\n",
    "}"
   ]
  },
  {
   "cell_type": "code",
   "execution_count": 4,
   "metadata": {},
   "outputs": [
    {
     "data": {
      "text/plain": [
       "{'height': 11,\n",
       " 'width': 11,\n",
       " 'food': [{'x': 5, 'y': 5}, {'x': 9, 'y': 0}, {'x': 2, 'y': 6}],\n",
       " 'hazards': [{'x': 3, 'y': 2}],\n",
       " 'hazard_damage': 14,\n",
       " 'snakes': {'snake-508e96ac-94ad-11ea-bb37': {'id': 'snake-508e96ac-94ad-11ea-bb37',\n",
       "   'head': {'x': 0, 'y': 0},\n",
       "   'body': [{'x': 0, 'y': 0}, {'x': 1, 'y': 0}, {'x': 2, 'y': 0}],\n",
       "   'health': 54},\n",
       "  'snake-b67f4906-94ae-11ea-bb37': {'id': 'snake-b67f4906-94ae-11ea-bb37',\n",
       "   'head': {'x': 5, 'y': 4},\n",
       "   'body': [{'x': 5, 'y': 4},\n",
       "    {'x': 5, 'y': 3},\n",
       "    {'x': 6, 'y': 3},\n",
       "    {'x': 6, 'y': 2}],\n",
       "   'health': 16}}}"
      ]
     },
     "execution_count": 4,
     "metadata": {},
     "output_type": "execute_result"
    }
   ],
   "source": [
    "game.pull_data(data)"
   ]
  },
  {
   "cell_type": "code",
   "execution_count": null,
   "metadata": {},
   "outputs": [],
   "source": []
  }
 ],
 "metadata": {
  "kernelspec": {
   "display_name": "Python 3",
   "language": "python",
   "name": "python3"
  },
  "language_info": {
   "codemirror_mode": {
    "name": "ipython",
    "version": 3
   },
   "file_extension": ".py",
   "mimetype": "text/x-python",
   "name": "python",
   "nbconvert_exporter": "python",
   "pygments_lexer": "ipython3",
   "version": "3.10.6"
  },
  "orig_nbformat": 4,
  "vscode": {
   "interpreter": {
    "hash": "d37b5943df0ee5cc553b95d5b68b17e9d4196dc8309aa7c0643598742e5c200d"
   }
  }
 },
 "nbformat": 4,
 "nbformat_minor": 2
}
