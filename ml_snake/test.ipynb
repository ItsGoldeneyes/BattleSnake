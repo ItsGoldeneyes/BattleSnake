{
 "cells": [
  {
   "cell_type": "code",
   "execution_count": 1,
   "metadata": {},
   "outputs": [],
   "source": [
    "import sqlite3"
   ]
  },
  {
   "cell_type": "code",
   "execution_count": 9,
   "metadata": {},
   "outputs": [
    {
     "name": "stdout",
     "output_type": "stream",
     "text": [
      "Successfully Connected to SQLite\n",
      "SQLite table created\n",
      "sqlite connection is closed\n"
     ]
    }
   ],
   "source": [
    "try:\n",
    "    sqliteConnection = sqlite3.connect('combat-reptile.sqlite')\n",
    "    cursor = sqliteConnection.cursor()\n",
    "    print(\"Successfully Connected to SQLite\")\n",
    "    \n",
    "    sqlite_initial_query = \"SELECT * FROM sqlite_master WHERE type='table' limit 2;\"\n",
    "    \n",
    "    cursor.execute(sqlite_initial_query)\n",
    "    rows = cursor.fetchall()\n",
    "    # sqliteConnection.commit()\n",
    "    print(\"SQLite table created\")\n",
    "\n",
    "    cursor.close()\n",
    "\n",
    "except sqlite3.Error as error:\n",
    "    print(\"Error while creating a sqlite table\", error)\n",
    "finally:\n",
    "    if sqliteConnection:\n",
    "        sqliteConnection.close()\n",
    "        print(\"sqlite connection is closed\")"
   ]
  },
  {
   "cell_type": "code",
   "execution_count": 10,
   "metadata": {},
   "outputs": [
    {
     "data": {
      "text/plain": [
       "[('table',\n",
       "  'games',\n",
       "  'games',\n",
       "  2,\n",
       "  'CREATE TABLE games (\\n          gid TEXT PRIMARY KEY,\\n          game TEXT NOT NULL,\\n          snake_version TEXT NOT NULL,\\n          position INTEGER NOT NULL,\\n          start_time TEXT NOT NULL,\\n          end_time TEXT NOT NULL,\\n          turns INTEGER NOT NULL,\\n          turns_alive INTEGER NOT NULL,\\n          record BLOB NOT NULL\\n        ) STRICT'),\n",
       " ('table',\n",
       "  'participants',\n",
       "  'participants',\n",
       "  4,\n",
       "  'CREATE TABLE participants (\\n          gid TEXT NOT NULL REFERENCES games(gid),\\n          sid TEXT NOT NULL,\\n          name TEXT NOT NULL,\\n          won INTEGER NOT NULL\\n        ) STRICT')]"
      ]
     },
     "execution_count": 10,
     "metadata": {},
     "output_type": "execute_result"
    }
   ],
   "source": [
    "rows"
   ]
  },
  {
   "cell_type": "code",
   "execution_count": 8,
   "metadata": {},
   "outputs": [
    {
     "name": "stdout",
     "output_type": "stream",
     "text": [
      "('table', 'games', 'games', 2, 'CREATE TABLE games (\\n          gid TEXT PRIMARY KEY,\\n          game TEXT NOT NULL,\\n          snake_version TEXT NOT NULL,\\n          position INTEGER NOT NULL,\\n          start_time TEXT NOT NULL,\\n          end_time TEXT NOT NULL,\\n          turns INTEGER NOT NULL,\\n          turns_alive INTEGER NOT NULL,\\n          record BLOB NOT NULL\\n        ) STRICT')\n"
     ]
    }
   ],
   "source": [
    "for i in rows:\n",
    "    print(i)"
   ]
  },
  {
   "cell_type": "code",
   "execution_count": null,
   "metadata": {},
   "outputs": [],
   "source": []
  }
 ],
 "metadata": {
  "kernelspec": {
   "display_name": "venv",
   "language": "python",
   "name": "venv"
  },
  "language_info": {
   "codemirror_mode": {
    "name": "ipython",
    "version": 3
   },
   "file_extension": ".py",
   "mimetype": "text/x-python",
   "name": "python",
   "nbconvert_exporter": "python",
   "pygments_lexer": "ipython3",
   "version": "3.9.13"
  },
  "orig_nbformat": 4,
  "vscode": {
   "interpreter": {
    "hash": "d37b5943df0ee5cc553b95d5b68b17e9d4196dc8309aa7c0643598742e5c200d"
   }
  }
 },
 "nbformat": 4,
 "nbformat_minor": 2
}
