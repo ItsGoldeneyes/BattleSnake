{
 "cells": [
  {
   "cell_type": "code",
   "execution_count": 8,
   "metadata": {},
   "outputs": [],
   "source": [
    "import sqlite3\n",
    "import pandas as pd\n",
    "import zstandard as zstd\n",
    "import pathlib"
   ]
  },
  {
   "cell_type": "code",
   "execution_count": 9,
   "metadata": {},
   "outputs": [],
   "source": [
    "def connect_db(db_name):\n",
    "    try:\n",
    "        conn = sqlite3.connect(db_name)\n",
    "        print(\"Connection to SQLite DB successful\")\n",
    "        return conn\n",
    "    except sqlite3.Error as e:\n",
    "        print(\"Connection to SQLite DB failed:\", e)\n",
    "    \n",
    "\n",
    "def run_query(conn, query):\n",
    "    try:\n",
    "        df = pd.read_sql_query(query, conn)\n",
    "        return df\n",
    "    except sqlite3.Error as e:\n",
    "        print(\"Query failed:\", e)\n",
    "        \n",
    "        \n",
    "def decompress_zstandard_to_folder(compressed, destination_dir = r'C:\\Users\\micha\\Documents\\GitHub\\ml_snake\\decompressed'):\n",
    "    decomp = zstd.ZstdDecompressor()\n",
    "    output_path = pathlib.Path(destination_dir) / \"a\"\n",
    "    with open(output_path, 'wb') as destination:\n",
    "        decomp.copy_stream(compressed, destination)"
   ]
  },
  {
   "cell_type": "code",
   "execution_count": 10,
   "metadata": {},
   "outputs": [],
   "source": []
  },
  {
   "cell_type": "code",
   "execution_count": 11,
   "metadata": {},
   "outputs": [
    {
     "name": "stdout",
     "output_type": "stream",
     "text": [
      "Connection to SQLite DB successful\n"
     ]
    }
   ],
   "source": [
    "conn = connect_db(\"combat-reptile.sqlite\")"
   ]
  },
  {
   "cell_type": "code",
   "execution_count": 12,
   "metadata": {},
   "outputs": [],
   "source": [
    "game = run_query(conn, \"SELECT * FROM games LIMIT 1\")"
   ]
  },
  {
   "cell_type": "code",
   "execution_count": 18,
   "metadata": {},
   "outputs": [
    {
     "data": {
      "text/plain": [
       "bytes"
      ]
     },
     "execution_count": 18,
     "metadata": {},
     "output_type": "execute_result"
    }
   ],
   "source": [
    "type(game['record'][0])"
   ]
  },
  {
   "cell_type": "code",
   "execution_count": 16,
   "metadata": {},
   "outputs": [
    {
     "name": "stdout",
     "output_type": "stream",
     "text": [
      "40\n"
     ]
    },
    {
     "ename": "AttributeError",
     "evalue": "'zstd.ZstdDecompressor' object has no attribute 'uncompress'",
     "output_type": "error",
     "traceback": [
      "\u001b[1;31m---------------------------------------------------------------------------\u001b[0m",
      "\u001b[1;31mAttributeError\u001b[0m                            Traceback (most recent call last)",
      "Cell \u001b[1;32mIn[16], line 6\u001b[0m\n\u001b[0;32m      4\u001b[0m \u001b[39mfor\u001b[39;00m j \u001b[39min\u001b[39;00m i:\n\u001b[0;32m      5\u001b[0m     \u001b[39mprint\u001b[39m(j)\n\u001b[1;32m----> 6\u001b[0m     decompress\u001b[39m.\u001b[39;49muncompress(j)\n",
      "\u001b[1;31mAttributeError\u001b[0m: 'zstd.ZstdDecompressor' object has no attribute 'uncompress'"
     ]
    }
   ],
   "source": [
    "decompress = zstd.ZstdDecompressor()\n",
    "\n",
    "for i in game['record']:\n",
    "    for j in i:\n",
    "        print(j)\n",
    "        decompress.uncompress(j)"
   ]
  },
  {
   "cell_type": "code",
   "execution_count": 8,
   "metadata": {},
   "outputs": [
    {
     "ename": "TypeError",
     "evalue": "a bytes-like object is required, not 'Series'",
     "output_type": "error",
     "traceback": [
      "\u001b[1;31m---------------------------------------------------------------------------\u001b[0m",
      "\u001b[1;31mTypeError\u001b[0m                                 Traceback (most recent call last)",
      "Cell \u001b[1;32mIn[8], line 1\u001b[0m\n\u001b[1;32m----> 1\u001b[0m zstd\u001b[39m.\u001b[39;49mZstdDecompressor()\u001b[39m.\u001b[39;49mdecompress(game[\u001b[39m'\u001b[39;49m\u001b[39mrecord\u001b[39;49m\u001b[39m'\u001b[39;49m])\n",
      "\u001b[1;31mTypeError\u001b[0m: a bytes-like object is required, not 'Series'"
     ]
    }
   ],
   "source": []
  },
  {
   "cell_type": "code",
   "execution_count": null,
   "metadata": {},
   "outputs": [],
   "source": []
  }
 ],
 "metadata": {
  "kernelspec": {
   "display_name": "Python 3",
   "language": "python",
   "name": "python3"
  },
  "language_info": {
   "codemirror_mode": {
    "name": "ipython",
    "version": 3
   },
   "file_extension": ".py",
   "mimetype": "text/x-python",
   "name": "python",
   "nbconvert_exporter": "python",
   "pygments_lexer": "ipython3",
   "version": "3.9.13"
  },
  "orig_nbformat": 4
 },
 "nbformat": 4,
 "nbformat_minor": 2
}
